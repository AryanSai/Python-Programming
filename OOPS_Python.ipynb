{
  "nbformat": 4,
  "nbformat_minor": 0,
  "metadata": {
    "colab": {
      "provenance": []
    },
    "kernelspec": {
      "name": "python3",
      "display_name": "Python 3"
    },
    "language_info": {
      "name": "python"
    }
  },
  "cells": [
    {
      "cell_type": "code",
      "execution_count": 1,
      "metadata": {
        "colab": {
          "base_uri": "https://localhost:8080/"
        },
        "id": "kf5BKQGmsB6v",
        "outputId": "8cf67cf8-70f9-44b5-e029-d43fff2d75dd"
      },
      "outputs": [
        {
          "output_type": "stream",
          "name": "stdout",
          "text": [
            "aryan\n"
          ]
        }
      ],
      "source": [
        "class Student:\n",
        "  name = \"\"\n",
        "\n",
        "s1 = Student()\n",
        "s1.name=\"aryan\"\n",
        "print(s1.name)"
      ]
    },
    {
      "cell_type": "markdown",
      "source": [
        "# __init__() Funtion\n",
        "\n",
        "\n",
        "\n",
        "*   All classes have a function called __init__(), which is always executed when the class is being initiated.\n",
        "*   __init__ is a special method known as the constructor. It is automatically called when a new instance (object) of a class is created.\n",
        "\n",
        "*   'self' represents the object of the class itself.\n",
        "\n",
        "*   Inheritance allows the child class to inherit the __init__() method of the parent class along with the other data members and member functions of that class.  The __init__ method of the parent or the base class is called within the __init__ method of the child or sub class. In case the parent class demands an argument, the parameter value must be passed in the __init__ method of the child class as well as at the time of object creation for the child class.\n",
        "\n",
        "\n",
        "\n",
        "*   The __str__() function controls what should be returned when the class object is represented as a string. If the __str__() function is not set, the string representation of the object is returned.\n",
        "\n",
        "*   The self parameter is a reference to the current instance of the class, and is used to access variables that belong to the class. It does not have to be named self, you can call it whatever you like, but it has to be the first parameter of any function in the class.\n",
        "\n"
      ],
      "metadata": {
        "id": "miyEOUuassZN"
      }
    },
    {
      "cell_type": "code",
      "source": [
        "class Student:\n",
        "  def __init__(self, name=\"\", age=0):\n",
        "    self.name = name\n",
        "    self.age = age\n",
        "\n",
        "  def __str__(self):\n",
        "    return f\"{self.name}({self.age})\"\n",
        "\n",
        "  def introduce(self):\n",
        "    print(f\"Hello! I am {self.name}\")\n",
        "\n",
        "s1 = Student(\"aryan\")\n",
        "print(s1)\n",
        "s1.introduce()\n",
        "\n",
        "# to delete an object\n",
        "# del s1"
      ],
      "metadata": {
        "colab": {
          "base_uri": "https://localhost:8080/"
        },
        "id": "YPMn39I4sdtI",
        "outputId": "766aeb62-b1c7-45a1-cf6d-99aa92e52d61"
      },
      "execution_count": 2,
      "outputs": [
        {
          "output_type": "stream",
          "name": "stdout",
          "text": [
            "aryan(0)\n",
            "Hello! I am aryan\n"
          ]
        }
      ]
    },
    {
      "cell_type": "markdown",
      "source": [
        "# Inheritance\n",
        "\n",
        "\n",
        "\n",
        "*   When you add the __init__() function, the child class will no longer inherit the parent's __init__() function. The child's __init__() function overrides the inheritance of the parent's __init__() function. To keep the inheritance of the parent's __init__() function, add a call to the parent's __init__() function.\n",
        "\n",
        "\n",
        "*   List item\n",
        "\n"
      ],
      "metadata": {
        "id": "57hemX62xg31"
      }
    },
    {
      "cell_type": "code",
      "source": [
        "class Person:\n",
        "  def __init__(self, fname, lname):\n",
        "    self.firstname = fname\n",
        "    self.lastname = lname\n",
        "\n",
        "  def printname(self):\n",
        "    print(self.firstname, self.lastname)\n",
        "\n",
        "class Student(Person):\n",
        "  pass\n",
        "\n",
        "s = Student(\"aryan\",\"sai\")\n",
        "s.printname()"
      ],
      "metadata": {
        "colab": {
          "base_uri": "https://localhost:8080/"
        },
        "id": "j5MgMT-PtL0R",
        "outputId": "2c0f49cd-5856-46d9-a2cc-038c6f12707b"
      },
      "execution_count": 3,
      "outputs": [
        {
          "output_type": "stream",
          "name": "stdout",
          "text": [
            "aryan sai\n"
          ]
        }
      ]
    },
    {
      "cell_type": "code",
      "source": [
        "class Person:\n",
        "  def __init__(self, fname, lname):\n",
        "    self.firstname = fname\n",
        "    self.lastname = lname\n",
        "\n",
        "  def printname(self):\n",
        "    print(self.firstname, self.lastname)\n",
        "\n",
        "class Student(Person):\n",
        "  def __init__(self, fname, lname):\n",
        "    Person.__init__(self, fname, lname)\n",
        "\n",
        "s = Student(\"aryan\",\"sai\")\n",
        "s.printname()"
      ],
      "metadata": {
        "id": "NtYSrvKhyGx3",
        "colab": {
          "base_uri": "https://localhost:8080/"
        },
        "outputId": "d5004712-cb5e-41ed-b1ea-3c197210caa4"
      },
      "execution_count": 4,
      "outputs": [
        {
          "output_type": "stream",
          "name": "stdout",
          "text": [
            "aryan sai\n"
          ]
        }
      ]
    },
    {
      "cell_type": "markdown",
      "source": [
        "Python also has a super() function that will make the child class inherit all the methods and properties from its parent. By using the super() function, you do not have to use the name of the parent element, it will automatically inherit the methods and properties from its parent."
      ],
      "metadata": {
        "id": "7JP7MDk-yUPS"
      }
    },
    {
      "cell_type": "code",
      "source": [
        "class Person:\n",
        "  def __init__(self, fname, lname):\n",
        "    self.firstname = fname\n",
        "    self.lastname = lname\n",
        "\n",
        "  def printname(self):\n",
        "    print(self.firstname, self.lastname)\n",
        "\n",
        "class Student(Person):\n",
        "  def __init__(self, fname, lname, gradyear):\n",
        "    super().__init__(fname, lname) #shouldnot pass self here\n",
        "    self.gradyear = gradyear\n",
        "\n",
        "  def welcome(self):\n",
        "    print(\"Welcome\", self.firstname, self.lastname, \"to the class\")\n",
        "\n",
        "  def __str__(self):\n",
        "    return f\"{self.firstname} graduated in {self.gradyear}\"\n",
        "\n",
        "s = Student(\"aryan\",\"sai\",2025)\n",
        "print(s)"
      ],
      "metadata": {
        "colab": {
          "base_uri": "https://localhost:8080/"
        },
        "id": "9S7PIbSRxmLK",
        "outputId": "d2afabd2-e92b-45d5-ed67-d3d4ece632f4"
      },
      "execution_count": 5,
      "outputs": [
        {
          "output_type": "stream",
          "name": "stdout",
          "text": [
            "aryan graduated in 2025\n"
          ]
        }
      ]
    },
    {
      "cell_type": "markdown",
      "source": [
        "# Class Polymorphism\n",
        "\n",
        "Polymorphism is often used in Class methods, where we can have multiple classes with the same method name.\n",
        "\n",
        "For example, say we have three classes: Car, Boat, and Plane, and they all have a method called move()."
      ],
      "metadata": {
        "id": "ihfz0_SOzvhD"
      }
    },
    {
      "cell_type": "code",
      "source": [
        "class Car:\n",
        "  def __init__(self, brand, model):\n",
        "    self.brand = brand\n",
        "    self.model = model\n",
        "\n",
        "  def move(self):\n",
        "    print(\"Drive!\")\n",
        "\n",
        "class Boat:\n",
        "  def __init__(self, brand, model):\n",
        "    self.brand = brand\n",
        "    self.model = model\n",
        "\n",
        "  def move(self):\n",
        "    print(\"Sail!\")\n",
        "\n",
        "class Plane:\n",
        "  def __init__(self, brand, model):\n",
        "    self.brand = brand\n",
        "    self.model = model\n",
        "\n",
        "  def move(self):\n",
        "    print(\"Fly!\")\n",
        "\n",
        "car1 = Car(\"Ford\", \"Mustang\")       #Create a Car object\n",
        "boat1 = Boat(\"Ibiza\", \"Touring 20\") #Create a Boat object\n",
        "plane1 = Plane(\"Boeing\", \"747\")     #Create a Plane object\n",
        "\n",
        "for x in (car1, boat1, plane1):\n",
        "  x.move()"
      ],
      "metadata": {
        "colab": {
          "base_uri": "https://localhost:8080/"
        },
        "id": "nz0TtoGPyxEK",
        "outputId": "daa41240-7881-4218-eb28-97e5329615a3"
      },
      "execution_count": 6,
      "outputs": [
        {
          "output_type": "stream",
          "name": "stdout",
          "text": [
            "Drive!\n",
            "Sail!\n",
            "Fly!\n"
          ]
        }
      ]
    },
    {
      "cell_type": "markdown",
      "source": [
        "# Inheritance Class Polymorphism\n",
        "\n",
        "What about classes with child classes with the same name? Can we use polymorphism there?\n",
        "\n",
        "Yes. If we use the example above and make a parent class called Vehicle, and make Car, Boat, Plane child classes of Vehicle, the child classes inherits the Vehicle methods, but can override them."
      ],
      "metadata": {
        "id": "AmS7M93J2ugL"
      }
    },
    {
      "cell_type": "code",
      "source": [
        "class Vehicle:\n",
        "  def __init__(self, brand, model):\n",
        "    self.brand = brand\n",
        "    self.model = model\n",
        "\n",
        "  def move(self):\n",
        "    print(\"Move!\")\n",
        "\n",
        "class Car(Vehicle):\n",
        "  pass\n",
        "\n",
        "class Boat(Vehicle):\n",
        "  def move(self):\n",
        "    print(\"Sail!\")\n",
        "\n",
        "class Plane(Vehicle):\n",
        "  def move(self):\n",
        "    print(\"Fly!\")\n",
        "\n",
        "car1 = Car(\"Ford\", \"Mustang\")       #Create a Car object\n",
        "boat1 = Boat(\"Ibiza\", \"Touring 20\") #Create a Boat object\n",
        "plane1 = Plane(\"Boeing\", \"747\")     #Create a Plane object\n",
        "\n",
        "for x in (car1, boat1, plane1):\n",
        "  print(x.brand)\n",
        "  print(x.model)\n",
        "  x.move()"
      ],
      "metadata": {
        "colab": {
          "base_uri": "https://localhost:8080/"
        },
        "id": "t_DVenm51Ven",
        "outputId": "19611325-179f-4a4c-b423-e017dff68b53"
      },
      "execution_count": 7,
      "outputs": [
        {
          "output_type": "stream",
          "name": "stdout",
          "text": [
            "Ford\n",
            "Mustang\n",
            "Move!\n",
            "Ibiza\n",
            "Touring 20\n",
            "Sail!\n",
            "Boeing\n",
            "747\n",
            "Fly!\n"
          ]
        }
      ]
    },
    {
      "cell_type": "code",
      "source": [],
      "metadata": {
        "id": "NwedK1Y72-a8"
      },
      "execution_count": 7,
      "outputs": []
    }
  ]
}